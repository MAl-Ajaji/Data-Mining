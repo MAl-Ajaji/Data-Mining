{
 "cells": [
  {
   "cell_type": "code",
   "execution_count": 299,
   "metadata": {},
   "outputs": [],
   "source": [
    "import pandas as pd\n",
    "\n",
    "dataset = pd.read_csv(\"YRBS_rev2.csv\")"
   ]
  },
  {
   "cell_type": "code",
   "execution_count": 300,
   "metadata": {},
   "outputs": [
    {
     "data": {
      "text/html": [
       "<div>\n",
       "<style scoped>\n",
       "    .dataframe tbody tr th:only-of-type {\n",
       "        vertical-align: middle;\n",
       "    }\n",
       "\n",
       "    .dataframe tbody tr th {\n",
       "        vertical-align: top;\n",
       "    }\n",
       "\n",
       "    .dataframe thead th {\n",
       "        text-align: right;\n",
       "    }\n",
       "</style>\n",
       "<table border=\"1\" class=\"dataframe\">\n",
       "  <thead>\n",
       "    <tr style=\"text-align: right;\">\n",
       "      <th></th>\n",
       "      <th>q1</th>\n",
       "      <th>q2</th>\n",
       "      <th>q3</th>\n",
       "      <th>q4</th>\n",
       "      <th>q5_1</th>\n",
       "      <th>q5_2</th>\n",
       "      <th>q5_3</th>\n",
       "      <th>q5_4</th>\n",
       "      <th>q5_5</th>\n",
       "      <th>q6</th>\n",
       "      <th>...</th>\n",
       "      <th>q95</th>\n",
       "      <th>q96</th>\n",
       "      <th>q98</th>\n",
       "      <th>q99</th>\n",
       "      <th>BMIPCT</th>\n",
       "      <th>weight</th>\n",
       "      <th>stratum</th>\n",
       "      <th>psu</th>\n",
       "      <th>record</th>\n",
       "      <th>year</th>\n",
       "    </tr>\n",
       "  </thead>\n",
       "  <tbody>\n",
       "    <tr>\n",
       "      <th>0</th>\n",
       "      <td>5</td>\n",
       "      <td>1</td>\n",
       "      <td>3</td>\n",
       "      <td>2</td>\n",
       "      <td>1</td>\n",
       "      <td>1</td>\n",
       "      <td>1</td>\n",
       "      <td>1</td>\n",
       "      <td>2</td>\n",
       "      <td>1.63</td>\n",
       "      <td>...</td>\n",
       "      <td>1</td>\n",
       "      <td>1</td>\n",
       "      <td>1</td>\n",
       "      <td>1</td>\n",
       "      <td>88.16</td>\n",
       "      <td>4.97</td>\n",
       "      <td>111</td>\n",
       "      <td>270530</td>\n",
       "      <td>5</td>\n",
       "      <td>2015</td>\n",
       "    </tr>\n",
       "    <tr>\n",
       "      <th>1</th>\n",
       "      <td>7</td>\n",
       "      <td>2</td>\n",
       "      <td>4</td>\n",
       "      <td>1</td>\n",
       "      <td>1</td>\n",
       "      <td>1</td>\n",
       "      <td>1</td>\n",
       "      <td>1</td>\n",
       "      <td>1</td>\n",
       "      <td>1.73</td>\n",
       "      <td>...</td>\n",
       "      <td>8</td>\n",
       "      <td>1</td>\n",
       "      <td>1</td>\n",
       "      <td>1</td>\n",
       "      <td>67.56</td>\n",
       "      <td>3.93</td>\n",
       "      <td>111</td>\n",
       "      <td>270530</td>\n",
       "      <td>7</td>\n",
       "      <td>2015</td>\n",
       "    </tr>\n",
       "    <tr>\n",
       "      <th>2</th>\n",
       "      <td>6</td>\n",
       "      <td>1</td>\n",
       "      <td>4</td>\n",
       "      <td>2</td>\n",
       "      <td>1</td>\n",
       "      <td>1</td>\n",
       "      <td>2</td>\n",
       "      <td>1</td>\n",
       "      <td>1</td>\n",
       "      <td>1.50</td>\n",
       "      <td>...</td>\n",
       "      <td>1</td>\n",
       "      <td>1</td>\n",
       "      <td>1</td>\n",
       "      <td>1</td>\n",
       "      <td>11.21</td>\n",
       "      <td>5.01</td>\n",
       "      <td>111</td>\n",
       "      <td>270530</td>\n",
       "      <td>9</td>\n",
       "      <td>2015</td>\n",
       "    </tr>\n",
       "    <tr>\n",
       "      <th>3</th>\n",
       "      <td>4</td>\n",
       "      <td>2</td>\n",
       "      <td>2</td>\n",
       "      <td>1</td>\n",
       "      <td>1</td>\n",
       "      <td>1</td>\n",
       "      <td>1</td>\n",
       "      <td>1</td>\n",
       "      <td>2</td>\n",
       "      <td>1.78</td>\n",
       "      <td>...</td>\n",
       "      <td>4</td>\n",
       "      <td>1</td>\n",
       "      <td>2</td>\n",
       "      <td>1</td>\n",
       "      <td>68.28</td>\n",
       "      <td>4.02</td>\n",
       "      <td>111</td>\n",
       "      <td>270530</td>\n",
       "      <td>13</td>\n",
       "      <td>2015</td>\n",
       "    </tr>\n",
       "    <tr>\n",
       "      <th>4</th>\n",
       "      <td>5</td>\n",
       "      <td>2</td>\n",
       "      <td>3</td>\n",
       "      <td>1</td>\n",
       "      <td>1</td>\n",
       "      <td>1</td>\n",
       "      <td>1</td>\n",
       "      <td>1</td>\n",
       "      <td>1</td>\n",
       "      <td>1.80</td>\n",
       "      <td>...</td>\n",
       "      <td>1</td>\n",
       "      <td>1</td>\n",
       "      <td>1</td>\n",
       "      <td>3</td>\n",
       "      <td>68.88</td>\n",
       "      <td>4.01</td>\n",
       "      <td>111</td>\n",
       "      <td>270530</td>\n",
       "      <td>15</td>\n",
       "      <td>2015</td>\n",
       "    </tr>\n",
       "  </tbody>\n",
       "</table>\n",
       "<p>5 rows × 124 columns</p>\n",
       "</div>"
      ],
      "text/plain": [
       "   q1  q2  q3  q4  q5_1  q5_2  q5_3  q5_4  q5_5    q6  ...  q95  q96  q98  \\\n",
       "0   5   1   3   2     1     1     1     1     2  1.63  ...    1    1    1   \n",
       "1   7   2   4   1     1     1     1     1     1  1.73  ...    8    1    1   \n",
       "2   6   1   4   2     1     1     2     1     1  1.50  ...    1    1    1   \n",
       "3   4   2   2   1     1     1     1     1     2  1.78  ...    4    1    2   \n",
       "4   5   2   3   1     1     1     1     1     1  1.80  ...    1    1    1   \n",
       "\n",
       "   q99  BMIPCT  weight  stratum     psu  record  year  \n",
       "0    1   88.16    4.97      111  270530       5  2015  \n",
       "1    1   67.56    3.93      111  270530       7  2015  \n",
       "2    1   11.21    5.01      111  270530       9  2015  \n",
       "3    1   68.28    4.02      111  270530      13  2015  \n",
       "4    3   68.88    4.01      111  270530      15  2015  \n",
       "\n",
       "[5 rows x 124 columns]"
      ]
     },
     "execution_count": 300,
     "metadata": {},
     "output_type": "execute_result"
    }
   ],
   "source": [
    "dataset.head()"
   ]
  },
  {
   "cell_type": "code",
   "execution_count": 301,
   "metadata": {},
   "outputs": [],
   "source": [
    "colq88 = dataset[\"q88\"]\n",
    "dataset.drop(labels=['q88'], axis=1, inplace = True)\n",
    "dataset.insert(123, 'q88', colq88)"
   ]
  },
  {
   "cell_type": "code",
   "execution_count": 302,
   "metadata": {},
   "outputs": [
    {
     "data": {
      "text/html": [
       "<div>\n",
       "<style scoped>\n",
       "    .dataframe tbody tr th:only-of-type {\n",
       "        vertical-align: middle;\n",
       "    }\n",
       "\n",
       "    .dataframe tbody tr th {\n",
       "        vertical-align: top;\n",
       "    }\n",
       "\n",
       "    .dataframe thead th {\n",
       "        text-align: right;\n",
       "    }\n",
       "</style>\n",
       "<table border=\"1\" class=\"dataframe\">\n",
       "  <thead>\n",
       "    <tr style=\"text-align: right;\">\n",
       "      <th></th>\n",
       "      <th>q1</th>\n",
       "      <th>q2</th>\n",
       "      <th>q3</th>\n",
       "      <th>q4</th>\n",
       "      <th>q5_1</th>\n",
       "      <th>q5_2</th>\n",
       "      <th>q5_3</th>\n",
       "      <th>q5_4</th>\n",
       "      <th>q5_5</th>\n",
       "      <th>q6</th>\n",
       "      <th>...</th>\n",
       "      <th>q96</th>\n",
       "      <th>q98</th>\n",
       "      <th>q99</th>\n",
       "      <th>BMIPCT</th>\n",
       "      <th>weight</th>\n",
       "      <th>stratum</th>\n",
       "      <th>psu</th>\n",
       "      <th>record</th>\n",
       "      <th>year</th>\n",
       "      <th>q88</th>\n",
       "    </tr>\n",
       "  </thead>\n",
       "  <tbody>\n",
       "    <tr>\n",
       "      <th>0</th>\n",
       "      <td>5</td>\n",
       "      <td>1</td>\n",
       "      <td>3</td>\n",
       "      <td>2</td>\n",
       "      <td>1</td>\n",
       "      <td>1</td>\n",
       "      <td>1</td>\n",
       "      <td>1</td>\n",
       "      <td>2</td>\n",
       "      <td>1.63</td>\n",
       "      <td>...</td>\n",
       "      <td>1</td>\n",
       "      <td>1</td>\n",
       "      <td>1</td>\n",
       "      <td>88.16</td>\n",
       "      <td>4.97</td>\n",
       "      <td>111</td>\n",
       "      <td>270530</td>\n",
       "      <td>5</td>\n",
       "      <td>2015</td>\n",
       "      <td>1</td>\n",
       "    </tr>\n",
       "    <tr>\n",
       "      <th>1</th>\n",
       "      <td>7</td>\n",
       "      <td>2</td>\n",
       "      <td>4</td>\n",
       "      <td>1</td>\n",
       "      <td>1</td>\n",
       "      <td>1</td>\n",
       "      <td>1</td>\n",
       "      <td>1</td>\n",
       "      <td>1</td>\n",
       "      <td>1.73</td>\n",
       "      <td>...</td>\n",
       "      <td>1</td>\n",
       "      <td>1</td>\n",
       "      <td>1</td>\n",
       "      <td>67.56</td>\n",
       "      <td>3.93</td>\n",
       "      <td>111</td>\n",
       "      <td>270530</td>\n",
       "      <td>7</td>\n",
       "      <td>2015</td>\n",
       "      <td>3</td>\n",
       "    </tr>\n",
       "    <tr>\n",
       "      <th>2</th>\n",
       "      <td>6</td>\n",
       "      <td>1</td>\n",
       "      <td>4</td>\n",
       "      <td>2</td>\n",
       "      <td>1</td>\n",
       "      <td>1</td>\n",
       "      <td>2</td>\n",
       "      <td>1</td>\n",
       "      <td>1</td>\n",
       "      <td>1.50</td>\n",
       "      <td>...</td>\n",
       "      <td>1</td>\n",
       "      <td>1</td>\n",
       "      <td>1</td>\n",
       "      <td>11.21</td>\n",
       "      <td>5.01</td>\n",
       "      <td>111</td>\n",
       "      <td>270530</td>\n",
       "      <td>9</td>\n",
       "      <td>2015</td>\n",
       "      <td>2</td>\n",
       "    </tr>\n",
       "    <tr>\n",
       "      <th>3</th>\n",
       "      <td>4</td>\n",
       "      <td>2</td>\n",
       "      <td>2</td>\n",
       "      <td>1</td>\n",
       "      <td>1</td>\n",
       "      <td>1</td>\n",
       "      <td>1</td>\n",
       "      <td>1</td>\n",
       "      <td>2</td>\n",
       "      <td>1.78</td>\n",
       "      <td>...</td>\n",
       "      <td>1</td>\n",
       "      <td>2</td>\n",
       "      <td>1</td>\n",
       "      <td>68.28</td>\n",
       "      <td>4.02</td>\n",
       "      <td>111</td>\n",
       "      <td>270530</td>\n",
       "      <td>13</td>\n",
       "      <td>2015</td>\n",
       "      <td>4</td>\n",
       "    </tr>\n",
       "    <tr>\n",
       "      <th>4</th>\n",
       "      <td>5</td>\n",
       "      <td>2</td>\n",
       "      <td>3</td>\n",
       "      <td>1</td>\n",
       "      <td>1</td>\n",
       "      <td>1</td>\n",
       "      <td>1</td>\n",
       "      <td>1</td>\n",
       "      <td>1</td>\n",
       "      <td>1.80</td>\n",
       "      <td>...</td>\n",
       "      <td>1</td>\n",
       "      <td>1</td>\n",
       "      <td>3</td>\n",
       "      <td>68.88</td>\n",
       "      <td>4.01</td>\n",
       "      <td>111</td>\n",
       "      <td>270530</td>\n",
       "      <td>15</td>\n",
       "      <td>2015</td>\n",
       "      <td>4</td>\n",
       "    </tr>\n",
       "  </tbody>\n",
       "</table>\n",
       "<p>5 rows × 124 columns</p>\n",
       "</div>"
      ],
      "text/plain": [
       "   q1  q2  q3  q4  q5_1  q5_2  q5_3  q5_4  q5_5    q6  ...  q96  q98  q99  \\\n",
       "0   5   1   3   2     1     1     1     1     2  1.63  ...    1    1    1   \n",
       "1   7   2   4   1     1     1     1     1     1  1.73  ...    1    1    1   \n",
       "2   6   1   4   2     1     1     2     1     1  1.50  ...    1    1    1   \n",
       "3   4   2   2   1     1     1     1     1     2  1.78  ...    1    2    1   \n",
       "4   5   2   3   1     1     1     1     1     1  1.80  ...    1    1    3   \n",
       "\n",
       "   BMIPCT  weight  stratum     psu  record  year  q88  \n",
       "0   88.16    4.97      111  270530       5  2015    1  \n",
       "1   67.56    3.93      111  270530       7  2015    3  \n",
       "2   11.21    5.01      111  270530       9  2015    2  \n",
       "3   68.28    4.02      111  270530      13  2015    4  \n",
       "4   68.88    4.01      111  270530      15  2015    4  \n",
       "\n",
       "[5 rows x 124 columns]"
      ]
     },
     "execution_count": 302,
     "metadata": {},
     "output_type": "execute_result"
    }
   ],
   "source": [
    "dataset.head()"
   ]
  },
  {
   "cell_type": "code",
   "execution_count": 303,
   "metadata": {},
   "outputs": [
    {
     "name": "stdout",
     "output_type": "stream",
     "text": [
      "<class 'pandas.core.frame.DataFrame'>\n",
      "RangeIndex: 15307 entries, 0 to 15306\n",
      "Columns: 124 entries, q1 to q88\n",
      "dtypes: float64(4), int64(120)\n",
      "memory usage: 14.5 MB\n"
     ]
    }
   ],
   "source": [
    "dataset.info()"
   ]
  },
  {
   "cell_type": "code",
   "execution_count": 304,
   "metadata": {},
   "outputs": [],
   "source": [
    "# dataset.drop(labels=['q6', 'q7','q8','q9','q10','q11', 'q12', 'q13','q14', 'q15', 'q16', 'q17',\n",
    "#                      'q18', 'q19', 'q21', 'q22','q29','q30', 'q32','q33','q37', 'q38','q40', 'q42','q43','q46','q47',\n",
    "#                      'q48','q49','q50','q51','q52','q53','q54','q55',\n",
    "#                      'q56','q57','q59','q62','q61','q63','q67','q69','q70','q71','q72','q73','q74','q75',\n",
    "#                      'q76','q81','q82','q84','q86','q87','q91','q92','q93','q94','q95','q96',\n",
    "#                      'q99','BMIPCT'], axis=1, inplace = True)\n",
    "\n",
    "dataset_yes_no = dataset\n",
    "\n",
    "\n",
    "# dataset.drop(columns=['q1','q2', 'q3','q4','q5_1','q5_2','q5_3','q5_4','q5_5', 'q6', 'q7','q8','q9','q10',\n",
    "#                       'q11', 'q12', 'q13','q14', 'q15', 'q16', 'q17','q18', 'q19',\n",
    "#                       'q21', 'q22','q23', 'q24', 'q25','q26', 'q27', 'q28','q29','q30',\n",
    "#                        'q32','q33','q35','q36_2','q36_3','q36_4','q36_5','q36_6','q36_7','q36_8','q37', 'q38', 'q39','q40',\n",
    "#                       'q41', 'q42','q43','q44_2', 'q44_3','q44_4','q44_5','q44_6','q44_7','q44_8','q45','q46','q47','q48','q49','q50',\n",
    "#                       'q51','q52','q53','q54','q55','q56','q57','q58','q59','q60',\n",
    "#                       'q62','q61','q63','q64_2','q64_3','q64_4','q64_5','q64_6','q64_7','q64_8','q65_2','q65_3','q66_1','q66_2','q67','q68_1','q68_2','q68_3','q69','q70',\n",
    "#                       'q71','q72','q73','q74','q75','q76','q77','q78','q79','q80',\n",
    "#                       'q81','q82','q84','q86','q87','q89',\n",
    "#                       'q91','q92','q93','q94','q95','q96','q98','q99',\n",
    "#                      'BMIPCT','weight','stratum','psu', 'record','year'], axis=1, inplace = True)\n",
    "\n",
    "dataset_yes_no.drop(columns=['q1', 'q3','q4','q5_1','q5_2','q5_3','q5_4','q5_5', 'q6', 'q7','q8','q9','q10',\n",
    "                      'q11', 'q12', 'q13','q14', 'q15', 'q16', 'q17','q18', 'q19',\n",
    "                      'q21', 'q22','q29','q30',\n",
    "                       'q32','q33','q35','q36_2','q36_3','q36_4','q36_5','q36_6','q36_7','q36_8','q37', 'q38', 'q39','q40',\n",
    "                      'q41', 'q42','q43','q44_2', 'q44_3','q44_4','q44_5','q44_6','q44_7','q44_8','q45','q46','q47','q48','q49','q50',\n",
    "                      'q51','q52','q53','q54','q55','q56','q57','q58','q59','q60',\n",
    "                      'q62','q61','q63','q64_2','q64_3','q64_4','q64_5','q64_6','q64_7','q64_8','q65_2','q65_3','q66_1','q66_2','q67','q68_1','q68_2','q68_3','q69','q70',\n",
    "                      'q71','q72','q73','q74','q75','q76','q77','q78','q79','q80',\n",
    "                      'q81','q82','q84','q86','q87','q89',\n",
    "                      'q91','q92','q93','q94','q95','q96','q98','q99',\n",
    "                     'BMIPCT','weight','stratum','psu', 'record','year'], axis=1, inplace = True)\n",
    "\n"
   ]
  },
  {
   "cell_type": "code",
   "execution_count": 305,
   "metadata": {
    "scrolled": true
   },
   "outputs": [
    {
     "name": "stdout",
     "output_type": "stream",
     "text": [
      "<class 'pandas.core.frame.DataFrame'>\n",
      "RangeIndex: 15307 entries, 0 to 15306\n",
      "Data columns (total 8 columns):\n",
      " #   Column  Non-Null Count  Dtype\n",
      "---  ------  --------------  -----\n",
      " 0   q2      15307 non-null  int64\n",
      " 1   q23     15307 non-null  int64\n",
      " 2   q24     15307 non-null  int64\n",
      " 3   q25     15307 non-null  int64\n",
      " 4   q26     15307 non-null  int64\n",
      " 5   q27     15307 non-null  int64\n",
      " 6   q28     15307 non-null  int64\n",
      " 7   q88     15307 non-null  int64\n",
      "dtypes: int64(8)\n",
      "memory usage: 956.8 KB\n"
     ]
    }
   ],
   "source": [
    "dataset_yes_no.info()"
   ]
  },
  {
   "cell_type": "code",
   "execution_count": 277,
   "metadata": {},
   "outputs": [
    {
     "data": {
      "text/plain": [
       "array(['Yes', 'No'], dtype=object)"
      ]
     },
     "execution_count": 277,
     "metadata": {},
     "output_type": "execute_result"
    }
   ],
   "source": [
    "dataset_yes_no.loc[dataset_yes_no['q88'] == 1, 'q88'] = 'Yes' #A\n",
    "dataset_yes_no.loc[dataset_yes_no['q88'] == 2, 'q88' ] = 'Yes' #B\n",
    "dataset_yes_no.loc[dataset_yes_no['q88'] == 3, 'q88'] = 'Yes' #C\n",
    "dataset_yes_no.loc[dataset_yes_no['q88'] == 4, 'q88' ] = 'Yes' #D\n",
    "dataset_yes_no.loc[dataset_yes_no['q88'] == 5, 'q88'] = 'No' #E\n",
    "dataset_yes_no.loc[dataset_yes_no['q88'] == 6, 'q88' ] = 'No' #F\n",
    "dataset_yes_no.loc[dataset_yes_no['q88'] == 7, 'q88'] = 'No' #G\n",
    "dataset_yes_no['q88'].unique()"
   ]
  },
  {
   "cell_type": "code",
   "execution_count": 278,
   "metadata": {},
   "outputs": [
    {
     "data": {
      "text/plain": [
       "count     15307\n",
       "unique        2\n",
       "top         Yes\n",
       "freq      11497\n",
       "Name: q88, dtype: object"
      ]
     },
     "execution_count": 278,
     "metadata": {},
     "output_type": "execute_result"
    }
   ],
   "source": [
    "dataset_yes_no['q88'].describe()"
   ]
  },
  {
   "cell_type": "code",
   "execution_count": 280,
   "metadata": {},
   "outputs": [],
   "source": [
    "dataset_yes_no['q88'] = dataset_yes_no.q88.astype('category')"
   ]
  },
  {
   "cell_type": "code",
   "execution_count": 281,
   "metadata": {},
   "outputs": [],
   "source": [
    "y = dataset_yes_no[\"q88\"]\n",
    "X = dataset_yes_no.drop(labels=['q88'], axis=1, inplace = True)\n",
    "X = dataset_yes_no"
   ]
  },
  {
   "cell_type": "code",
   "execution_count": 262,
   "metadata": {},
   "outputs": [
    {
     "data": {
      "text/plain": [
       "['Yes', 'No']\n",
       "Categories (2, object): ['Yes', 'No']"
      ]
     },
     "execution_count": 262,
     "metadata": {},
     "output_type": "execute_result"
    }
   ],
   "source": [
    "#time = 35.00\n",
    "\n",
    "y.unique()"
   ]
  },
  {
   "cell_type": "code",
   "execution_count": 263,
   "metadata": {},
   "outputs": [],
   "source": [
    "from sklearn.model_selection import train_test_split\n",
    "\n",
    "X_train, X_test, y_train, y_test = train_test_split(X, y, test_size=0.2, random_state=42)"
   ]
  },
  {
   "cell_type": "code",
   "execution_count": 264,
   "metadata": {},
   "outputs": [],
   "source": [
    "from sklearn.linear_model import LogisticRegression\n",
    "\n",
    "lg_reg = LogisticRegression(random_state=42)\n",
    "lg_dt= lg_reg.fit(X_train, y_train)"
   ]
  },
  {
   "cell_type": "code",
   "execution_count": 265,
   "metadata": {},
   "outputs": [
    {
     "data": {
      "text/plain": [
       "<sklearn.metrics._plot.confusion_matrix.ConfusionMatrixDisplay at 0x1b150243d60>"
      ]
     },
     "execution_count": 265,
     "metadata": {},
     "output_type": "execute_result"
    },
    {
     "data": {
      "image/png": "[encoded data removed]",
      "text/plain": [
       "<Figure size 432x288 with 2 Axes>"
      ]
     },
     "metadata": {
      "needs_background": "light"
     },
     "output_type": "display_data"
    }
   ],
   "source": [
    "from sklearn.metrics import plot_confusion_matrix\n",
    "\n",
    "plot_confusion_matrix(lg_reg, X_test, y_test)"
   ]
  },
  {
   "cell_type": "code",
   "execution_count": 266,
   "metadata": {},
   "outputs": [
    {
     "data": {
      "text/plain": [
       "0.7488569562377531"
      ]
     },
     "execution_count": 266,
     "metadata": {},
     "output_type": "execute_result"
    }
   ],
   "source": [
    "from sklearn.metrics import accuracy_score\n",
    "\n",
    "pred = lg_reg.predict(X_test)\n",
    "accuracy_score(y_test, pred)"
   ]
  }
 ],
 "metadata": {
  "kernelspec": {
   "display_name": "Python 3",
   "language": "python",
   "name": "python3"
  },
  "language_info": {
   "codemirror_mode": {
    "name": "ipython",
    "version": 3
   },
   "file_extension": ".py",
   "mimetype": "text/x-python",
   "name": "python",
   "nbconvert_exporter": "python",
   "pygments_lexer": "ipython3",
   "version": "3.8.5"
  }
 },
 "nbformat": 4,
 "nbformat_minor": 4
}
