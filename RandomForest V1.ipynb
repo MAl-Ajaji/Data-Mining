{
 "cells": [
  {
   "cell_type": "code",
   "execution_count": 117,
   "metadata": {},
   "outputs": [],
   "source": [
    "import pandas as pd\n",
    "\n",
    "dataset = pd.read_csv(\"YRBS_rev2.csv\")"
   ]
  },
  {
   "cell_type": "code",
   "execution_count": 118,
   "metadata": {},
   "outputs": [
    {
     "data": {
      "text/html": [
       "<div>\n",
       "<style scoped>\n",
       "    .dataframe tbody tr th:only-of-type {\n",
       "        vertical-align: middle;\n",
       "    }\n",
       "\n",
       "    .dataframe tbody tr th {\n",
       "        vertical-align: top;\n",
       "    }\n",
       "\n",
       "    .dataframe thead th {\n",
       "        text-align: right;\n",
       "    }\n",
       "</style>\n",
       "<table border=\"1\" class=\"dataframe\">\n",
       "  <thead>\n",
       "    <tr style=\"text-align: right;\">\n",
       "      <th></th>\n",
       "      <th>q1</th>\n",
       "      <th>q2</th>\n",
       "      <th>q3</th>\n",
       "      <th>q4</th>\n",
       "      <th>q5_1</th>\n",
       "      <th>q5_2</th>\n",
       "      <th>q5_3</th>\n",
       "      <th>q5_4</th>\n",
       "      <th>q5_5</th>\n",
       "      <th>q6</th>\n",
       "      <th>...</th>\n",
       "      <th>q95</th>\n",
       "      <th>q96</th>\n",
       "      <th>q98</th>\n",
       "      <th>q99</th>\n",
       "      <th>BMIPCT</th>\n",
       "      <th>weight</th>\n",
       "      <th>stratum</th>\n",
       "      <th>psu</th>\n",
       "      <th>record</th>\n",
       "      <th>year</th>\n",
       "    </tr>\n",
       "  </thead>\n",
       "  <tbody>\n",
       "    <tr>\n",
       "      <th>0</th>\n",
       "      <td>5</td>\n",
       "      <td>1</td>\n",
       "      <td>3</td>\n",
       "      <td>2</td>\n",
       "      <td>1</td>\n",
       "      <td>1</td>\n",
       "      <td>1</td>\n",
       "      <td>1</td>\n",
       "      <td>2</td>\n",
       "      <td>1.63</td>\n",
       "      <td>...</td>\n",
       "      <td>1</td>\n",
       "      <td>1</td>\n",
       "      <td>1</td>\n",
       "      <td>1</td>\n",
       "      <td>88.16</td>\n",
       "      <td>4.97</td>\n",
       "      <td>111</td>\n",
       "      <td>270530</td>\n",
       "      <td>5</td>\n",
       "      <td>2015</td>\n",
       "    </tr>\n",
       "    <tr>\n",
       "      <th>1</th>\n",
       "      <td>7</td>\n",
       "      <td>2</td>\n",
       "      <td>4</td>\n",
       "      <td>1</td>\n",
       "      <td>1</td>\n",
       "      <td>1</td>\n",
       "      <td>1</td>\n",
       "      <td>1</td>\n",
       "      <td>1</td>\n",
       "      <td>1.73</td>\n",
       "      <td>...</td>\n",
       "      <td>8</td>\n",
       "      <td>1</td>\n",
       "      <td>1</td>\n",
       "      <td>1</td>\n",
       "      <td>67.56</td>\n",
       "      <td>3.93</td>\n",
       "      <td>111</td>\n",
       "      <td>270530</td>\n",
       "      <td>7</td>\n",
       "      <td>2015</td>\n",
       "    </tr>\n",
       "    <tr>\n",
       "      <th>2</th>\n",
       "      <td>6</td>\n",
       "      <td>1</td>\n",
       "      <td>4</td>\n",
       "      <td>2</td>\n",
       "      <td>1</td>\n",
       "      <td>1</td>\n",
       "      <td>2</td>\n",
       "      <td>1</td>\n",
       "      <td>1</td>\n",
       "      <td>1.50</td>\n",
       "      <td>...</td>\n",
       "      <td>1</td>\n",
       "      <td>1</td>\n",
       "      <td>1</td>\n",
       "      <td>1</td>\n",
       "      <td>11.21</td>\n",
       "      <td>5.01</td>\n",
       "      <td>111</td>\n",
       "      <td>270530</td>\n",
       "      <td>9</td>\n",
       "      <td>2015</td>\n",
       "    </tr>\n",
       "    <tr>\n",
       "      <th>3</th>\n",
       "      <td>4</td>\n",
       "      <td>2</td>\n",
       "      <td>2</td>\n",
       "      <td>1</td>\n",
       "      <td>1</td>\n",
       "      <td>1</td>\n",
       "      <td>1</td>\n",
       "      <td>1</td>\n",
       "      <td>2</td>\n",
       "      <td>1.78</td>\n",
       "      <td>...</td>\n",
       "      <td>4</td>\n",
       "      <td>1</td>\n",
       "      <td>2</td>\n",
       "      <td>1</td>\n",
       "      <td>68.28</td>\n",
       "      <td>4.02</td>\n",
       "      <td>111</td>\n",
       "      <td>270530</td>\n",
       "      <td>13</td>\n",
       "      <td>2015</td>\n",
       "    </tr>\n",
       "    <tr>\n",
       "      <th>4</th>\n",
       "      <td>5</td>\n",
       "      <td>2</td>\n",
       "      <td>3</td>\n",
       "      <td>1</td>\n",
       "      <td>1</td>\n",
       "      <td>1</td>\n",
       "      <td>1</td>\n",
       "      <td>1</td>\n",
       "      <td>1</td>\n",
       "      <td>1.80</td>\n",
       "      <td>...</td>\n",
       "      <td>1</td>\n",
       "      <td>1</td>\n",
       "      <td>1</td>\n",
       "      <td>3</td>\n",
       "      <td>68.88</td>\n",
       "      <td>4.01</td>\n",
       "      <td>111</td>\n",
       "      <td>270530</td>\n",
       "      <td>15</td>\n",
       "      <td>2015</td>\n",
       "    </tr>\n",
       "  </tbody>\n",
       "</table>\n",
       "<p>5 rows × 124 columns</p>\n",
       "</div>"
      ],
      "text/plain": [
       "   q1  q2  q3  q4  q5_1  q5_2  q5_3  q5_4  q5_5    q6  ...  q95  q96  q98  \\\n",
       "0   5   1   3   2     1     1     1     1     2  1.63  ...    1    1    1   \n",
       "1   7   2   4   1     1     1     1     1     1  1.73  ...    8    1    1   \n",
       "2   6   1   4   2     1     1     2     1     1  1.50  ...    1    1    1   \n",
       "3   4   2   2   1     1     1     1     1     2  1.78  ...    4    1    2   \n",
       "4   5   2   3   1     1     1     1     1     1  1.80  ...    1    1    1   \n",
       "\n",
       "   q99  BMIPCT  weight  stratum     psu  record  year  \n",
       "0    1   88.16    4.97      111  270530       5  2015  \n",
       "1    1   67.56    3.93      111  270530       7  2015  \n",
       "2    1   11.21    5.01      111  270530       9  2015  \n",
       "3    1   68.28    4.02      111  270530      13  2015  \n",
       "4    3   68.88    4.01      111  270530      15  2015  \n",
       "\n",
       "[5 rows x 124 columns]"
      ]
     },
     "execution_count": 118,
     "metadata": {},
     "output_type": "execute_result"
    }
   ],
   "source": [
    "dataset.head()"
   ]
  },
  {
   "cell_type": "code",
   "execution_count": 119,
   "metadata": {},
   "outputs": [],
   "source": [
    "colq88 = dataset[\"q88\"]\n",
    "dataset.drop(labels=['q88'], axis=1, inplace = True)\n",
    "dataset.insert(123, 'q88', colq88)"
   ]
  },
  {
   "cell_type": "code",
   "execution_count": 120,
   "metadata": {},
   "outputs": [
    {
     "data": {
      "text/html": [
       "<div>\n",
       "<style scoped>\n",
       "    .dataframe tbody tr th:only-of-type {\n",
       "        vertical-align: middle;\n",
       "    }\n",
       "\n",
       "    .dataframe tbody tr th {\n",
       "        vertical-align: top;\n",
       "    }\n",
       "\n",
       "    .dataframe thead th {\n",
       "        text-align: right;\n",
       "    }\n",
       "</style>\n",
       "<table border=\"1\" class=\"dataframe\">\n",
       "  <thead>\n",
       "    <tr style=\"text-align: right;\">\n",
       "      <th></th>\n",
       "      <th>q1</th>\n",
       "      <th>q2</th>\n",
       "      <th>q3</th>\n",
       "      <th>q4</th>\n",
       "      <th>q5_1</th>\n",
       "      <th>q5_2</th>\n",
       "      <th>q5_3</th>\n",
       "      <th>q5_4</th>\n",
       "      <th>q5_5</th>\n",
       "      <th>q6</th>\n",
       "      <th>...</th>\n",
       "      <th>q96</th>\n",
       "      <th>q98</th>\n",
       "      <th>q99</th>\n",
       "      <th>BMIPCT</th>\n",
       "      <th>weight</th>\n",
       "      <th>stratum</th>\n",
       "      <th>psu</th>\n",
       "      <th>record</th>\n",
       "      <th>year</th>\n",
       "      <th>q88</th>\n",
       "    </tr>\n",
       "  </thead>\n",
       "  <tbody>\n",
       "    <tr>\n",
       "      <th>0</th>\n",
       "      <td>5</td>\n",
       "      <td>1</td>\n",
       "      <td>3</td>\n",
       "      <td>2</td>\n",
       "      <td>1</td>\n",
       "      <td>1</td>\n",
       "      <td>1</td>\n",
       "      <td>1</td>\n",
       "      <td>2</td>\n",
       "      <td>1.63</td>\n",
       "      <td>...</td>\n",
       "      <td>1</td>\n",
       "      <td>1</td>\n",
       "      <td>1</td>\n",
       "      <td>88.16</td>\n",
       "      <td>4.97</td>\n",
       "      <td>111</td>\n",
       "      <td>270530</td>\n",
       "      <td>5</td>\n",
       "      <td>2015</td>\n",
       "      <td>1</td>\n",
       "    </tr>\n",
       "    <tr>\n",
       "      <th>1</th>\n",
       "      <td>7</td>\n",
       "      <td>2</td>\n",
       "      <td>4</td>\n",
       "      <td>1</td>\n",
       "      <td>1</td>\n",
       "      <td>1</td>\n",
       "      <td>1</td>\n",
       "      <td>1</td>\n",
       "      <td>1</td>\n",
       "      <td>1.73</td>\n",
       "      <td>...</td>\n",
       "      <td>1</td>\n",
       "      <td>1</td>\n",
       "      <td>1</td>\n",
       "      <td>67.56</td>\n",
       "      <td>3.93</td>\n",
       "      <td>111</td>\n",
       "      <td>270530</td>\n",
       "      <td>7</td>\n",
       "      <td>2015</td>\n",
       "      <td>3</td>\n",
       "    </tr>\n",
       "    <tr>\n",
       "      <th>2</th>\n",
       "      <td>6</td>\n",
       "      <td>1</td>\n",
       "      <td>4</td>\n",
       "      <td>2</td>\n",
       "      <td>1</td>\n",
       "      <td>1</td>\n",
       "      <td>2</td>\n",
       "      <td>1</td>\n",
       "      <td>1</td>\n",
       "      <td>1.50</td>\n",
       "      <td>...</td>\n",
       "      <td>1</td>\n",
       "      <td>1</td>\n",
       "      <td>1</td>\n",
       "      <td>11.21</td>\n",
       "      <td>5.01</td>\n",
       "      <td>111</td>\n",
       "      <td>270530</td>\n",
       "      <td>9</td>\n",
       "      <td>2015</td>\n",
       "      <td>2</td>\n",
       "    </tr>\n",
       "    <tr>\n",
       "      <th>3</th>\n",
       "      <td>4</td>\n",
       "      <td>2</td>\n",
       "      <td>2</td>\n",
       "      <td>1</td>\n",
       "      <td>1</td>\n",
       "      <td>1</td>\n",
       "      <td>1</td>\n",
       "      <td>1</td>\n",
       "      <td>2</td>\n",
       "      <td>1.78</td>\n",
       "      <td>...</td>\n",
       "      <td>1</td>\n",
       "      <td>2</td>\n",
       "      <td>1</td>\n",
       "      <td>68.28</td>\n",
       "      <td>4.02</td>\n",
       "      <td>111</td>\n",
       "      <td>270530</td>\n",
       "      <td>13</td>\n",
       "      <td>2015</td>\n",
       "      <td>4</td>\n",
       "    </tr>\n",
       "    <tr>\n",
       "      <th>4</th>\n",
       "      <td>5</td>\n",
       "      <td>2</td>\n",
       "      <td>3</td>\n",
       "      <td>1</td>\n",
       "      <td>1</td>\n",
       "      <td>1</td>\n",
       "      <td>1</td>\n",
       "      <td>1</td>\n",
       "      <td>1</td>\n",
       "      <td>1.80</td>\n",
       "      <td>...</td>\n",
       "      <td>1</td>\n",
       "      <td>1</td>\n",
       "      <td>3</td>\n",
       "      <td>68.88</td>\n",
       "      <td>4.01</td>\n",
       "      <td>111</td>\n",
       "      <td>270530</td>\n",
       "      <td>15</td>\n",
       "      <td>2015</td>\n",
       "      <td>4</td>\n",
       "    </tr>\n",
       "  </tbody>\n",
       "</table>\n",
       "<p>5 rows × 124 columns</p>\n",
       "</div>"
      ],
      "text/plain": [
       "   q1  q2  q3  q4  q5_1  q5_2  q5_3  q5_4  q5_5    q6  ...  q96  q98  q99  \\\n",
       "0   5   1   3   2     1     1     1     1     2  1.63  ...    1    1    1   \n",
       "1   7   2   4   1     1     1     1     1     1  1.73  ...    1    1    1   \n",
       "2   6   1   4   2     1     1     2     1     1  1.50  ...    1    1    1   \n",
       "3   4   2   2   1     1     1     1     1     2  1.78  ...    1    2    1   \n",
       "4   5   2   3   1     1     1     1     1     1  1.80  ...    1    1    3   \n",
       "\n",
       "   BMIPCT  weight  stratum     psu  record  year  q88  \n",
       "0   88.16    4.97      111  270530       5  2015    1  \n",
       "1   67.56    3.93      111  270530       7  2015    3  \n",
       "2   11.21    5.01      111  270530       9  2015    2  \n",
       "3   68.28    4.02      111  270530      13  2015    4  \n",
       "4   68.88    4.01      111  270530      15  2015    4  \n",
       "\n",
       "[5 rows x 124 columns]"
      ]
     },
     "execution_count": 120,
     "metadata": {},
     "output_type": "execute_result"
    }
   ],
   "source": [
    "dataset.head()"
   ]
  },
  {
   "cell_type": "code",
   "execution_count": 121,
   "metadata": {},
   "outputs": [],
   "source": [
    "dataset.drop(labels=['q6', 'q7','q8','q9','q10','q11', 'q12', 'q13','q14', 'q15', 'q16', 'q17',\n",
    "                     'q18', 'q19', 'q21', 'q22','q29','q30', 'q32','q33','q37', 'q38','q40', 'q42','q43','q46','q47',\n",
    "                     'q48','q49','q50','q51','q52','q53','q54','q55',\n",
    "                     'q56','q57','q59','q62','q61','q63','q67','q69','q70','q71','q72','q73','q74','q75',\n",
    "                     'q76','q81','q82','q84','q86','q87','q91','q92','q93','q94','q95','q96',\n",
    "                     'q99','BMIPCT'], axis=1, inplace = True)"
   ]
  },
  {
   "cell_type": "code",
   "execution_count": 122,
   "metadata": {},
   "outputs": [
    {
     "name": "stdout",
     "output_type": "stream",
     "text": [
      "<class 'pandas.core.frame.DataFrame'>\n",
      "RangeIndex: 15307 entries, 0 to 15306\n",
      "Data columns (total 61 columns):\n",
      " #   Column   Non-Null Count  Dtype  \n",
      "---  ------   --------------  -----  \n",
      " 0   q1       15307 non-null  int64  \n",
      " 1   q2       15307 non-null  int64  \n",
      " 2   q3       15307 non-null  int64  \n",
      " 3   q4       15307 non-null  int64  \n",
      " 4   q5_1     15307 non-null  int64  \n",
      " 5   q5_2     15307 non-null  int64  \n",
      " 6   q5_3     15307 non-null  int64  \n",
      " 7   q5_4     15307 non-null  int64  \n",
      " 8   q5_5     15307 non-null  int64  \n",
      " 9   q23      15307 non-null  int64  \n",
      " 10  q24      15307 non-null  int64  \n",
      " 11  q25      15307 non-null  int64  \n",
      " 12  q26      15307 non-null  int64  \n",
      " 13  q27      15307 non-null  int64  \n",
      " 14  q28      15307 non-null  int64  \n",
      " 15  q35      15307 non-null  int64  \n",
      " 16  q36_2    15307 non-null  int64  \n",
      " 17  q36_3    15307 non-null  int64  \n",
      " 18  q36_4    15307 non-null  int64  \n",
      " 19  q36_5    15307 non-null  int64  \n",
      " 20  q36_6    15307 non-null  int64  \n",
      " 21  q36_7    15307 non-null  int64  \n",
      " 22  q36_8    15307 non-null  int64  \n",
      " 23  q39      15307 non-null  int64  \n",
      " 24  q41      15307 non-null  int64  \n",
      " 25  q44_2    15307 non-null  int64  \n",
      " 26  q44_3    15307 non-null  int64  \n",
      " 27  q44_4    15307 non-null  int64  \n",
      " 28  q44_5    15307 non-null  int64  \n",
      " 29  q44_6    15307 non-null  int64  \n",
      " 30  q44_7    15307 non-null  int64  \n",
      " 31  q44_8    15307 non-null  int64  \n",
      " 32  q45      15307 non-null  int64  \n",
      " 33  q58      15307 non-null  int64  \n",
      " 34  q60      15307 non-null  int64  \n",
      " 35  q64_2    15307 non-null  int64  \n",
      " 36  q64_3    15307 non-null  int64  \n",
      " 37  q64_4    15307 non-null  int64  \n",
      " 38  q64_5    15307 non-null  int64  \n",
      " 39  q64_6    15307 non-null  int64  \n",
      " 40  q64_7    15307 non-null  int64  \n",
      " 41  q64_8    15307 non-null  int64  \n",
      " 42  q65_2    15307 non-null  int64  \n",
      " 43  q65_3    15307 non-null  int64  \n",
      " 44  q66_1    15307 non-null  int64  \n",
      " 45  q66_2    15307 non-null  int64  \n",
      " 46  q68_1    15307 non-null  int64  \n",
      " 47  q68_2    15307 non-null  int64  \n",
      " 48  q68_3    15307 non-null  int64  \n",
      " 49  q77      15307 non-null  int64  \n",
      " 50  q78      15307 non-null  int64  \n",
      " 51  q79      15307 non-null  int64  \n",
      " 52  q80      15307 non-null  int64  \n",
      " 53  q89      15307 non-null  int64  \n",
      " 54  q98      15307 non-null  int64  \n",
      " 55  weight   15307 non-null  float64\n",
      " 56  stratum  15307 non-null  int64  \n",
      " 57  psu      15307 non-null  int64  \n",
      " 58  record   15307 non-null  int64  \n",
      " 59  year     15307 non-null  int64  \n",
      " 60  q88      15307 non-null  int64  \n",
      "dtypes: float64(1), int64(60)\n",
      "memory usage: 7.1 MB\n"
     ]
    }
   ],
   "source": [
    "dataset.info()"
   ]
  },
  {
   "cell_type": "code",
   "execution_count": 123,
   "metadata": {},
   "outputs": [
    {
     "data": {
      "text/plain": [
       "count    15307.000000\n",
       "mean         3.598942\n",
       "std          1.299843\n",
       "min          1.000000\n",
       "25%          3.000000\n",
       "50%          4.000000\n",
       "75%          4.000000\n",
       "max          7.000000\n",
       "Name: q88, dtype: float64"
      ]
     },
     "execution_count": 123,
     "metadata": {},
     "output_type": "execute_result"
    }
   ],
   "source": [
    "dataset['q88'].describe()"
   ]
  },
  {
   "cell_type": "code",
   "execution_count": 124,
   "metadata": {},
   "outputs": [],
   "source": [
    "dataset['q88'] = dataset.q88.astype('category')"
   ]
  },
  {
   "cell_type": "code",
   "execution_count": 125,
   "metadata": {},
   "outputs": [],
   "source": [
    "y = dataset[\"q88\"]\n",
    "X = dataset.drop(labels=['q88'], axis=1, inplace = True)\n",
    "X = dataset"
   ]
  },
  {
   "cell_type": "code",
   "execution_count": 126,
   "metadata": {},
   "outputs": [
    {
     "data": {
      "text/plain": [
       "[1, 3, 2, 4, 6, 5, 7]\n",
       "Categories (7, int64): [1, 3, 2, 4, 6, 5, 7]"
      ]
     },
     "execution_count": 126,
     "metadata": {},
     "output_type": "execute_result"
    }
   ],
   "source": [
    "#time = 35.00\n",
    "\n",
    "y.unique()"
   ]
  },
  {
   "cell_type": "code",
   "execution_count": 129,
   "metadata": {},
   "outputs": [],
   "source": [
    "from sklearn.model_selection import train_test_split\n",
    "\n",
    "X_train, X_test, y_train, y_test = train_test_split(X, y, test_size=0.2, random_state=42)"
   ]
  },
  {
   "cell_type": "code",
   "execution_count": 130,
   "metadata": {},
   "outputs": [],
   "source": [
    "from sklearn.ensemble import RandomForestClassifier\n",
    "\n",
    "RF_clf = RandomForestClassifier(random_state=42)\n",
    "RF_dt= RF_clf.fit(X_train, y_train)"
   ]
  },
  {
   "cell_type": "code",
   "execution_count": 131,
   "metadata": {},
   "outputs": [
    {
     "data": {
      "text/plain": [
       "<sklearn.metrics._plot.confusion_matrix.ConfusionMatrixDisplay at 0x1b097b45b20>"
      ]
     },
     "execution_count": 131,
     "metadata": {},
     "output_type": "execute_result"
    },
    {
     "data": {
      "image/png": "[encoded data removed]",
      "text/plain": [
       "<Figure size 432x288 with 2 Axes>"
      ]
     },
     "metadata": {
      "needs_background": "light"
     },
     "output_type": "display_data"
    }
   ],
   "source": [
    "from sklearn.metrics import plot_confusion_matrix\n",
    "\n",
    "plot_confusion_matrix(RF_clf, X_test, y_test)"
   ]
  },
  {
   "cell_type": "code",
   "execution_count": 133,
   "metadata": {},
   "outputs": [
    {
     "data": {
      "text/plain": [
       "0.31384715871979096"
      ]
     },
     "execution_count": 133,
     "metadata": {},
     "output_type": "execute_result"
    }
   ],
   "source": [
    "from sklearn.metrics import accuracy_score\n",
    "\n",
    "pred = RF_clf.predict(X_test)\n",
    "accuracy_score(y_test, pred)"
   ]
  },
  {
   "cell_type": "markdown",
   "metadata": {},
   "source": [
    "criterion= \"entropy\" instead criterion= \"gini\""
   ]
  },
  {
   "cell_type": "code",
   "execution_count": 134,
   "metadata": {},
   "outputs": [],
   "source": [
    "RF_clf = RandomForestClassifier(random_state=42, criterion= \"entropy\" )\n",
    "RF_dt= RF_clf.fit(X_train, y_train)"
   ]
  },
  {
   "cell_type": "code",
   "execution_count": 135,
   "metadata": {},
   "outputs": [
    {
     "data": {
      "text/plain": [
       "<sklearn.metrics._plot.confusion_matrix.ConfusionMatrixDisplay at 0x1b096758b20>"
      ]
     },
     "execution_count": 135,
     "metadata": {},
     "output_type": "execute_result"
    },
    {
     "data": {
      "image/png": "[encoded data removed]",
      "text/plain": [
       "<Figure size 432x288 with 2 Axes>"
      ]
     },
     "metadata": {
      "needs_background": "light"
     },
     "output_type": "display_data"
    }
   ],
   "source": [
    "plot_confusion_matrix(RF_clf, X_test, y_test)"
   ]
  },
  {
   "cell_type": "code",
   "execution_count": 136,
   "metadata": {},
   "outputs": [
    {
     "data": {
      "text/plain": [
       "0.31286740692357934"
      ]
     },
     "execution_count": 136,
     "metadata": {},
     "output_type": "execute_result"
    }
   ],
   "source": [
    "pred = RF_clf.predict(X_test)\n",
    "accuracy_score(y_test, pred)"
   ]
  },
  {
   "cell_type": "code",
   "execution_count": 137,
   "metadata": {},
   "outputs": [],
   "source": [
    "RF_clf = RandomForestClassifier(random_state=42, n_estimators= 50 )\n",
    "RF_dt= RF_clf.fit(X_train, y_train)"
   ]
  },
  {
   "cell_type": "code",
   "execution_count": 138,
   "metadata": {},
   "outputs": [
    {
     "data": {
      "text/plain": [
       "0.2952318745917701"
      ]
     },
     "execution_count": 138,
     "metadata": {},
     "output_type": "execute_result"
    }
   ],
   "source": [
    "pred = RF_clf.predict(X_test)\n",
    "accuracy_score(y_test, pred)"
   ]
  },
  {
   "cell_type": "code",
   "execution_count": 139,
   "metadata": {},
   "outputs": [],
   "source": [
    "RF_clf = RandomForestClassifier(random_state=42, n_estimators= 90 )\n",
    "RF_dt= RF_clf.fit(X_train, y_train)"
   ]
  },
  {
   "cell_type": "code",
   "execution_count": 140,
   "metadata": {},
   "outputs": [
    {
     "data": {
      "text/plain": [
       "0.31678641410842584"
      ]
     },
     "execution_count": 140,
     "metadata": {},
     "output_type": "execute_result"
    }
   ],
   "source": [
    "pred = RF_clf.predict(X_test)\n",
    "accuracy_score(y_test, pred)"
   ]
  },
  {
   "cell_type": "code",
   "execution_count": 141,
   "metadata": {},
   "outputs": [],
   "source": [
    "RF_clf = RandomForestClassifier(random_state=42, max_depth=20 )\n",
    "RF_dt= RF_clf.fit(X_train, y_train)"
   ]
  },
  {
   "cell_type": "code",
   "execution_count": 142,
   "metadata": {},
   "outputs": [
    {
     "data": {
      "text/plain": [
       "0.31450032658393207"
      ]
     },
     "execution_count": 142,
     "metadata": {},
     "output_type": "execute_result"
    }
   ],
   "source": [
    "pred = RF_clf.predict(X_test)\n",
    "accuracy_score(y_test, pred)"
   ]
  },
  {
   "cell_type": "code",
   "execution_count": 143,
   "metadata": {},
   "outputs": [],
   "source": [
    "RF_clf = RandomForestClassifier(random_state=42, max_depth=10 )\n",
    "RF_dt= RF_clf.fit(X_train, y_train)"
   ]
  },
  {
   "cell_type": "code",
   "execution_count": 144,
   "metadata": {},
   "outputs": [
    {
     "data": {
      "text/plain": [
       "0.3154800783801437"
      ]
     },
     "execution_count": 144,
     "metadata": {},
     "output_type": "execute_result"
    }
   ],
   "source": [
    "pred = RF_clf.predict(X_test)\n",
    "accuracy_score(y_test, pred)"
   ]
  },
  {
   "cell_type": "code",
   "execution_count": 145,
   "metadata": {},
   "outputs": [],
   "source": [
    "RF_clf = RandomForestClassifier(random_state=42, max_depth=5 )\n",
    "RF_dt= RF_clf.fit(X_train, y_train)"
   ]
  },
  {
   "cell_type": "code",
   "execution_count": 146,
   "metadata": {},
   "outputs": [
    {
     "data": {
      "text/plain": [
       "0.3118876551273677"
      ]
     },
     "execution_count": 146,
     "metadata": {},
     "output_type": "execute_result"
    }
   ],
   "source": [
    "pred = RF_clf.predict(X_test)\n",
    "accuracy_score(y_test, pred)"
   ]
  },
  {
   "cell_type": "code",
   "execution_count": 147,
   "metadata": {},
   "outputs": [],
   "source": [
    "RF_clf = RandomForestClassifier(random_state=42, max_depth=8 )\n",
    "RF_dt= RF_clf.fit(X_train, y_train)"
   ]
  },
  {
   "cell_type": "code",
   "execution_count": 149,
   "metadata": {},
   "outputs": [
    {
     "data": {
      "text/plain": [
       "0.3161332462442848"
      ]
     },
     "execution_count": 149,
     "metadata": {},
     "output_type": "execute_result"
    }
   ],
   "source": [
    "pred = RF_clf.predict(X_test)\n",
    "accuracy_score(y_test, pred)"
   ]
  },
  {
   "cell_type": "code",
   "execution_count": 150,
   "metadata": {},
   "outputs": [],
   "source": [
    "RF_clf = RandomForestClassifier(random_state=42, max_depth=7 )\n",
    "RF_dt= RF_clf.fit(X_train, y_train)"
   ]
  },
  {
   "cell_type": "code",
   "execution_count": 151,
   "metadata": {},
   "outputs": [
    {
     "data": {
      "text/plain": [
       "0.31450032658393207"
      ]
     },
     "execution_count": 151,
     "metadata": {},
     "output_type": "execute_result"
    }
   ],
   "source": [
    "pred = RF_clf.predict(X_test)\n",
    "accuracy_score(y_test, pred)"
   ]
  },
  {
   "cell_type": "markdown",
   "metadata": {},
   "source": [
    "max_depth = 9 is the best accuracy result \"0.319\""
   ]
  },
  {
   "cell_type": "code",
   "execution_count": 153,
   "metadata": {},
   "outputs": [],
   "source": [
    "RF_clf = RandomForestClassifier(random_state=42, max_depth=9 )\n",
    "RF_dt= RF_clf.fit(X_train, y_train)"
   ]
  },
  {
   "cell_type": "code",
   "execution_count": 154,
   "metadata": {},
   "outputs": [
    {
     "data": {
      "text/plain": [
       "0.31907250163291967"
      ]
     },
     "execution_count": 154,
     "metadata": {},
     "output_type": "execute_result"
    }
   ],
   "source": [
    "pred = RF_clf.predict(X_test)\n",
    "accuracy_score(y_test, pred)"
   ]
  },
  {
   "cell_type": "code",
   "execution_count": 159,
   "metadata": {},
   "outputs": [
    {
     "data": {
      "text/plain": [
       "<sklearn.metrics._plot.confusion_matrix.ConfusionMatrixDisplay at 0x1b092797190>"
      ]
     },
     "execution_count": 159,
     "metadata": {},
     "output_type": "execute_result"
    },
    {
     "data": {
      "image/png": "[encoded data removed]",
      "text/plain": [
       "<Figure size 432x288 with 2 Axes>"
      ]
     },
     "metadata": {
      "needs_background": "light"
     },
     "output_type": "display_data"
    }
   ],
   "source": [
    "plot_confusion_matrix(RF_clf, X_test, y_test)"
   ]
  },
  {
   "cell_type": "code",
   "execution_count": null,
   "metadata": {},
   "outputs": [],
   "source": []
  }
 ],
 "metadata": {
  "kernelspec": {
   "display_name": "Python 3",
   "language": "python",
   "name": "python3"
  },
  "language_info": {
   "codemirror_mode": {
    "name": "ipython",
    "version": 3
   },
   "file_extension": ".py",
   "mimetype": "text/x-python",
   "name": "python",
   "nbconvert_exporter": "python",
   "pygments_lexer": "ipython3",
   "version": "3.8.5"
  }
 },
 "nbformat": 4,
 "nbformat_minor": 4
}
